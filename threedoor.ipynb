{
 "cells": [
  {
   "cell_type": "code",
   "execution_count": 13,
   "id": "a6321269",
   "metadata": {},
   "outputs": [
    {
     "name": "stdout",
     "output_type": "stream",
     "text": [
      "3 doors, no switch: 0.33443\n",
      "3 doors, switch: 0.66885\n",
      "100 doors, no switch: 0.01022\n",
      "100 doors, switch: 0.98969\n"
     ]
    }
   ],
   "source": [
    "import random\n",
    "\n",
    "def change_door(num_doors, num_try, switch):\n",
    "    wins = 0\n",
    "    for i in range(num_try):\n",
    "        prize_door = random.randint(0, num_doors - 1)\n",
    "        my_choice = random.randint(0, num_doors - 1)\n",
    "\n",
    "        remaining_doors = []\n",
    "        for d in range(num_doors):\n",
    "            if d != my_choice and d != prize_door:\n",
    "                remaining_doors.append(d)\n",
    "\n",
    "        opened = random.sample(remaining_doors, num_doors - 2)\n",
    "\n",
    "        final_choice = my_choice\n",
    "        if switch:\n",
    "            for d in range(num_doors):\n",
    "                if d not in opened and d != my_choice:\n",
    "                    final_choice = d\n",
    "                    break\n",
    "\n",
    "        if final_choice == prize_door:\n",
    "            wins += 1\n",
    "\n",
    "    win_rate = wins / num_try\n",
    "    return win_rate\n",
    "\n",
    "\n",
    "print(\"3 doors, no switch:\", change_door(3, 100000, False))\n",
    "print(\"3 doors, switch:\", change_door(3, 100000, True))\n",
    "print(\"100 doors, no switch:\", change_door(100, 100000, False))\n",
    "print(\"100 doors, switch:\", change_door(100, 100000, True))\n"
   ]
  },
  {
   "cell_type": "code",
   "execution_count": 12,
   "id": "ef119550",
   "metadata": {},
   "outputs": [
    {
     "name": "stdout",
     "output_type": "stream",
     "text": [
      "3 doors, no switch: 0.01005\n",
      "3 doors, switch: 0.98995\n"
     ]
    }
   ],
   "source": [
    "import random\n",
    "\n",
    "def change_door(num_doors, num_try):\n",
    "    no_switch_wins = 0\n",
    "    switch_wins = 0\n",
    "    for i in range(num_try):\n",
    "        host_choice = -1\n",
    "        prize_door = random.randint(0, num_doors - 1)\n",
    "        my_choice = random.randint(0, num_doors - 1)\n",
    "        remain_doors = list(range(0, num_doors))\n",
    "        remain_doors.remove(my_choice)\n",
    "        \n",
    "        if my_choice == prize_door:\n",
    "            host_choice = random.choice(remain_doors)\n",
    "            no_switch_wins += 1\n",
    "            \n",
    "        else:\n",
    "            host_choice == prize_door\n",
    "            switch_wins += 1\n",
    "            \n",
    "    no_switch_win_rate = no_switch_wins / num_try\n",
    "    switch_win_rate = switch_wins / num_try\n",
    "\n",
    "    return no_switch_win_rate, switch_win_rate\n",
    "\n",
    "no_switch_win_rate, switch_win_rate = change_door(100, 100000)\n",
    "\n",
    "\n",
    "print(\"3 doors, no switch:\", no_switch_win_rate)\n",
    "print(\"3 doors, switch:\", switch_win_rate)\n",
    "\n"
   ]
  },
  {
   "cell_type": "code",
   "execution_count": null,
   "id": "47e26b4c",
   "metadata": {},
   "outputs": [],
   "source": []
  }
 ],
 "metadata": {
  "kernelspec": {
   "display_name": "Python (new-bayesian-env)",
   "language": "python",
   "name": "new-bayesian-env"
  },
  "language_info": {
   "codemirror_mode": {
    "name": "ipython",
    "version": 3
   },
   "file_extension": ".py",
   "mimetype": "text/x-python",
   "name": "python",
   "nbconvert_exporter": "python",
   "pygments_lexer": "ipython3",
   "version": "3.9.23"
  }
 },
 "nbformat": 4,
 "nbformat_minor": 5
}
