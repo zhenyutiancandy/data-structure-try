{
 "cells": [
  {
   "cell_type": "code",
   "execution_count": 1,
   "id": "e5b13073",
   "metadata": {},
   "outputs": [
    {
     "name": "stdout",
     "output_type": "stream",
     "text": [
      "原始数据规模: (100059, 16)\n"
     ]
    }
   ],
   "source": [
    "# Step 0. 导入依赖\n",
    "import pandas as pd\n",
    "import numpy as np\n",
    "from sklearn.linear_model import LogisticRegression\n",
    "from sklearn.preprocessing import StandardScaler\n",
    "from sklearn.metrics import classification_report\n",
    "\n",
    "# Step 1. 读取数据\n",
    "file_path = \"C:/Users/Candy/Desktop/merged_all.xlsx\"\n",
    "df = pd.read_excel(file_path, sheet_name=\"Sheet1\")\n",
    "print(\"原始数据规模:\", df.shape)\n",
    "\n",
    "# Step 2. 计算平均血压\n",
    "df[\"sbp_mean\"] = df[[\"bp1systolic1\", \"bp1systolic2\", \"bp1systolic3\"]].mean(axis=1, skipna=True)\n",
    "df[\"dbp_mean\"] = df[[\"bp1diastolic1\", \"bp1diastolic2\", \"bp1diastolic3\"]].mean(axis=1, skipna=True)\n",
    "\n",
    "# Step 3. 血压分组 (ESC/ESH 标准)\n",
    "def classify_bp(sbp, dbp):\n",
    "    if pd.isna(sbp) or pd.isna(dbp):\n",
    "        return np.nan\n",
    "    if sbp < 120 and dbp < 80:\n",
    "        return \"optimal\"\n",
    "    elif sbp < 130 and dbp < 85:\n",
    "        return \"normal\"\n",
    "    elif sbp < 140 and dbp < 90:\n",
    "        return \"high_normal\"\n",
    "    else:\n",
    "        return \"hypertensive\"\n",
    "\n",
    "df[\"bp_group\"] = df.apply(lambda row: classify_bp(row[\"sbp_mean\"], row[\"dbp_mean\"]), axis=1)\n"
   ]
  },
  {
   "cell_type": "code",
   "execution_count": 2,
   "id": "a87cbc0e",
   "metadata": {},
   "outputs": [
    {
     "name": "stdout",
     "output_type": "stream",
     "text": [
      "清洗后数据规模: (66560, 19)\n"
     ]
    }
   ],
   "source": [
    "# 删除缺失 outcome\n",
    "df = df.dropna(subset=[\"bp_group\"])\n",
    "print(\"清洗后数据规模:\", df.shape)"
   ]
  },
  {
   "cell_type": "code",
   "execution_count": 3,
   "id": "fe291c96",
   "metadata": {},
   "outputs": [],
   "source": [
    "# Step 4. 编码 outcome\n",
    "bp_mapping = {\"optimal\":0, \"normal\":1, \"high_normal\":2, \"hypertensive\":3}\n",
    "df[\"bp_group_code\"] = df[\"bp_group\"].map(bp_mapping)\n"
   ]
  },
  {
   "cell_type": "code",
   "execution_count": 4,
   "id": "c7017dbf",
   "metadata": {},
   "outputs": [
    {
     "name": "stdout",
     "output_type": "stream",
     "text": [
      "自变量矩阵: (66560, 4) 目标变量: (66560,)\n"
     ]
    }
   ],
   "source": [
    "# Step 5. 协变量处理\n",
    "X = df[[\"intage\", \"bmi\", \"gender\", \"ethderived\"]].copy()\n",
    "\n",
    "# 标准化连续变量\n",
    "scaler = StandardScaler()\n",
    "X[[\"intage\", \"bmi\"]] = scaler.fit_transform(X[[\"intage\", \"bmi\"]])\n",
    "\n",
    "# 编码分类变量 (gender, ethderived)\n",
    "X[\"gender\"] = X[\"gender\"].astype(\"category\").cat.codes   # 0=male, 1=female\n",
    "X[\"ethderived\"] = X[\"ethderived\"].astype(\"category\").cat.codes  # 1=Chinese, 2=Malay, 3=Indian, 4=Others\n",
    "\n",
    "y = df[\"bp_group_code\"]\n",
    "\n",
    "print(\"自变量矩阵:\", X.shape, \"目标变量:\", y.shape)"
   ]
  },
  {
   "cell_type": "code",
   "execution_count": 6,
   "id": "a00f0735",
   "metadata": {},
   "outputs": [
    {
     "name": "stdout",
     "output_type": "stream",
     "text": [
      "去掉缺失后的样本量: 66474\n"
     ]
    }
   ],
   "source": [
    "# 去掉含有 NaN 的样本\n",
    "X = X.dropna()\n",
    "y = y.loc[X.index]   # 保持 y 对齐\n",
    "\n",
    "print(\"去掉缺失后的样本量:\", X.shape[0])"
   ]
  },
  {
   "cell_type": "code",
   "execution_count": 7,
   "id": "2df118ef",
   "metadata": {},
   "outputs": [
    {
     "data": {
      "text/html": [
       "<style>#sk-container-id-1 {color: black;background-color: white;}#sk-container-id-1 pre{padding: 0;}#sk-container-id-1 div.sk-toggleable {background-color: white;}#sk-container-id-1 label.sk-toggleable__label {cursor: pointer;display: block;width: 100%;margin-bottom: 0;padding: 0.3em;box-sizing: border-box;text-align: center;}#sk-container-id-1 label.sk-toggleable__label-arrow:before {content: \"▸\";float: left;margin-right: 0.25em;color: #696969;}#sk-container-id-1 label.sk-toggleable__label-arrow:hover:before {color: black;}#sk-container-id-1 div.sk-estimator:hover label.sk-toggleable__label-arrow:before {color: black;}#sk-container-id-1 div.sk-toggleable__content {max-height: 0;max-width: 0;overflow: hidden;text-align: left;background-color: #f0f8ff;}#sk-container-id-1 div.sk-toggleable__content pre {margin: 0.2em;color: black;border-radius: 0.25em;background-color: #f0f8ff;}#sk-container-id-1 input.sk-toggleable__control:checked~div.sk-toggleable__content {max-height: 200px;max-width: 100%;overflow: auto;}#sk-container-id-1 input.sk-toggleable__control:checked~label.sk-toggleable__label-arrow:before {content: \"▾\";}#sk-container-id-1 div.sk-estimator input.sk-toggleable__control:checked~label.sk-toggleable__label {background-color: #d4ebff;}#sk-container-id-1 div.sk-label input.sk-toggleable__control:checked~label.sk-toggleable__label {background-color: #d4ebff;}#sk-container-id-1 input.sk-hidden--visually {border: 0;clip: rect(1px 1px 1px 1px);clip: rect(1px, 1px, 1px, 1px);height: 1px;margin: -1px;overflow: hidden;padding: 0;position: absolute;width: 1px;}#sk-container-id-1 div.sk-estimator {font-family: monospace;background-color: #f0f8ff;border: 1px dotted black;border-radius: 0.25em;box-sizing: border-box;margin-bottom: 0.5em;}#sk-container-id-1 div.sk-estimator:hover {background-color: #d4ebff;}#sk-container-id-1 div.sk-parallel-item::after {content: \"\";width: 100%;border-bottom: 1px solid gray;flex-grow: 1;}#sk-container-id-1 div.sk-label:hover label.sk-toggleable__label {background-color: #d4ebff;}#sk-container-id-1 div.sk-serial::before {content: \"\";position: absolute;border-left: 1px solid gray;box-sizing: border-box;top: 0;bottom: 0;left: 50%;z-index: 0;}#sk-container-id-1 div.sk-serial {display: flex;flex-direction: column;align-items: center;background-color: white;padding-right: 0.2em;padding-left: 0.2em;position: relative;}#sk-container-id-1 div.sk-item {position: relative;z-index: 1;}#sk-container-id-1 div.sk-parallel {display: flex;align-items: stretch;justify-content: center;background-color: white;position: relative;}#sk-container-id-1 div.sk-item::before, #sk-container-id-1 div.sk-parallel-item::before {content: \"\";position: absolute;border-left: 1px solid gray;box-sizing: border-box;top: 0;bottom: 0;left: 50%;z-index: -1;}#sk-container-id-1 div.sk-parallel-item {display: flex;flex-direction: column;z-index: 1;position: relative;background-color: white;}#sk-container-id-1 div.sk-parallel-item:first-child::after {align-self: flex-end;width: 50%;}#sk-container-id-1 div.sk-parallel-item:last-child::after {align-self: flex-start;width: 50%;}#sk-container-id-1 div.sk-parallel-item:only-child::after {width: 0;}#sk-container-id-1 div.sk-dashed-wrapped {border: 1px dashed gray;margin: 0 0.4em 0.5em 0.4em;box-sizing: border-box;padding-bottom: 0.4em;background-color: white;}#sk-container-id-1 div.sk-label label {font-family: monospace;font-weight: bold;display: inline-block;line-height: 1.2em;}#sk-container-id-1 div.sk-label-container {text-align: center;}#sk-container-id-1 div.sk-container {/* jupyter's `normalize.less` sets `[hidden] { display: none; }` but bootstrap.min.css set `[hidden] { display: none !important; }` so we also need the `!important` here to be able to override the default hidden behavior on the sphinx rendered scikit-learn.org. See: https://github.com/scikit-learn/scikit-learn/issues/21755 */display: inline-block !important;position: relative;}#sk-container-id-1 div.sk-text-repr-fallback {display: none;}</style><div id=\"sk-container-id-1\" class=\"sk-top-container\"><div class=\"sk-text-repr-fallback\"><pre>LogisticRegression(max_iter=1000, multi_class=&#x27;multinomial&#x27;)</pre><b>In a Jupyter environment, please rerun this cell to show the HTML representation or trust the notebook. <br />On GitHub, the HTML representation is unable to render, please try loading this page with nbviewer.org.</b></div><div class=\"sk-container\" hidden><div class=\"sk-item\"><div class=\"sk-estimator sk-toggleable\"><input class=\"sk-toggleable__control sk-hidden--visually\" id=\"sk-estimator-id-1\" type=\"checkbox\" checked><label for=\"sk-estimator-id-1\" class=\"sk-toggleable__label sk-toggleable__label-arrow\">LogisticRegression</label><div class=\"sk-toggleable__content\"><pre>LogisticRegression(max_iter=1000, multi_class=&#x27;multinomial&#x27;)</pre></div></div></div></div></div>"
      ],
      "text/plain": [
       "LogisticRegression(max_iter=1000, multi_class='multinomial')"
      ]
     },
     "execution_count": 7,
     "metadata": {},
     "output_type": "execute_result"
    }
   ],
   "source": [
    "# Step 6. 拟合多项 logistic 回归\n",
    "clf = LogisticRegression(multi_class=\"multinomial\", solver=\"lbfgs\", max_iter=1000)\n",
    "clf.fit(X, y)"
   ]
  },
  {
   "cell_type": "code",
   "execution_count": 8,
   "id": "441d4699",
   "metadata": {},
   "outputs": [
    {
     "name": "stdout",
     "output_type": "stream",
     "text": [
      "截距 (intercepts):\n",
      "[ 0.80911711 -0.0480997  -0.41256502 -0.34845239]\n",
      "\n",
      "回归系数 (coefficients):\n",
      "              intage_z     bmi_z    gender  ethderived\n",
      "optimal      -0.676266 -0.421689  0.343333    0.063876\n",
      "normal       -0.180020  0.028815 -0.170292   -0.003221\n",
      "high_normal   0.209493  0.156204 -0.129227   -0.031857\n",
      "hypertensive  0.646793  0.236670 -0.043814   -0.028798\n"
     ]
    }
   ],
   "source": [
    "# Step 7. 输出参数\n",
    "print(\"截距 (intercepts):\")\n",
    "print(clf.intercept_)\n",
    "\n",
    "print(\"\\n回归系数 (coefficients):\")\n",
    "coef_table = pd.DataFrame(clf.coef_, \n",
    "                          columns=[\"intage_z\",\"bmi_z\",\"gender\",\"ethderived\"], \n",
    "                          index=[\"optimal\",\"normal\",\"high_normal\",\"hypertensive\"])\n",
    "print(coef_table)"
   ]
  },
  {
   "cell_type": "code",
   "execution_count": 9,
   "id": "f9714696",
   "metadata": {},
   "outputs": [
    {
     "name": "stdout",
     "output_type": "stream",
     "text": [
      "\n",
      "分类准确率: 0.5635737280741342\n",
      "\n",
      "分类报告 (Classification Report):\n",
      "              precision    recall  f1-score   support\n",
      "\n",
      "     optimal       0.60      0.92      0.73     36075\n",
      "      normal       0.18      0.00      0.01     10445\n",
      " high_normal       0.00      0.00      0.00      8194\n",
      "hypertensive       0.39      0.37      0.38     11760\n",
      "\n",
      "    accuracy                           0.56     66474\n",
      "   macro avg       0.29      0.32      0.28     66474\n",
      "weighted avg       0.42      0.56      0.46     66474\n",
      "\n"
     ]
    },
    {
     "name": "stderr",
     "output_type": "stream",
     "text": [
      "C:\\01project\\condapy310\\Lib\\site-packages\\sklearn\\metrics\\_classification.py:1344: UndefinedMetricWarning: Precision and F-score are ill-defined and being set to 0.0 in labels with no predicted samples. Use `zero_division` parameter to control this behavior.\n",
      "  _warn_prf(average, modifier, msg_start, len(result))\n",
      "C:\\01project\\condapy310\\Lib\\site-packages\\sklearn\\metrics\\_classification.py:1344: UndefinedMetricWarning: Precision and F-score are ill-defined and being set to 0.0 in labels with no predicted samples. Use `zero_division` parameter to control this behavior.\n",
      "  _warn_prf(average, modifier, msg_start, len(result))\n",
      "C:\\01project\\condapy310\\Lib\\site-packages\\sklearn\\metrics\\_classification.py:1344: UndefinedMetricWarning: Precision and F-score are ill-defined and being set to 0.0 in labels with no predicted samples. Use `zero_division` parameter to control this behavior.\n",
      "  _warn_prf(average, modifier, msg_start, len(result))\n"
     ]
    }
   ],
   "source": [
    "# Step 8. 模型评估\n",
    "y_pred = clf.predict(X)\n",
    "print(\"\\n分类准确率:\", clf.score(X, y))\n",
    "print(\"\\n分类报告 (Classification Report):\")\n",
    "print(classification_report(y, y_pred, target_names=bp_mapping.keys()))"
   ]
  },
  {
   "cell_type": "markdown",
   "id": "be5d872c",
   "metadata": {},
   "source": [
    "# one hot尝试"
   ]
  },
  {
   "cell_type": "code",
   "execution_count": 10,
   "id": "0f495328",
   "metadata": {},
   "outputs": [
    {
     "name": "stdout",
     "output_type": "stream",
     "text": [
      "最终建模样本量: 66474\n",
      "\n",
      "截距 (intercepts):\n",
      "[-0.17996352  0.23554609  0.12593514 -0.18151771]\n",
      "\n",
      "回归系数 (coefficients):\n",
      "                intage       bmi    gender  ethderived_2  ethderived_3  \\\n",
      "optimal      -0.721620 -0.443456  0.431489     -0.124772      0.151361   \n",
      "normal       -0.181146  0.029924 -0.160200     -0.019441     -0.009802   \n",
      "high_normal   0.222797  0.167414 -0.160847     -0.009179     -0.069784   \n",
      "hypertensive  0.679970  0.246118 -0.110441      0.153392     -0.071774   \n",
      "\n",
      "              ethderived_4  \n",
      "optimal           0.293161  \n",
      "normal            0.041385  \n",
      "high_normal      -0.103530  \n",
      "hypertensive     -0.231015  \n",
      "\n",
      "分类准确率: 0.4845052200860487\n",
      "\n",
      "分类报告 (Classification Report):\n",
      "              precision    recall  f1-score   support\n",
      "\n",
      "     optimal       0.75      0.60      0.67     36075\n",
      "      normal       0.21      0.22      0.21     10445\n",
      " high_normal       0.18      0.13      0.15      8194\n",
      "hypertensive       0.34      0.60      0.44     11760\n",
      "\n",
      "    accuracy                           0.48     66474\n",
      "   macro avg       0.37      0.39      0.37     66474\n",
      "weighted avg       0.52      0.48      0.49     66474\n",
      "\n"
     ]
    }
   ],
   "source": [
    "# Step 0. 导入依赖\n",
    "import pandas as pd\n",
    "import numpy as np\n",
    "from sklearn.linear_model import LogisticRegression\n",
    "from sklearn.preprocessing import StandardScaler\n",
    "from sklearn.metrics import classification_report\n",
    "\n",
    "# Step 1. 读取数据\n",
    "file_path = \"C:/Users/Candy/Desktop/merged_all.xlsx\"\n",
    "df = pd.read_excel(file_path, sheet_name=\"Sheet1\")\n",
    "\n",
    "# Step 2. 计算平均血压\n",
    "df[\"sbp_mean\"] = df[[\"bp1systolic1\", \"bp1systolic2\", \"bp1systolic3\"]].mean(axis=1, skipna=True)\n",
    "df[\"dbp_mean\"] = df[[\"bp1diastolic1\", \"bp1diastolic2\", \"bp1diastolic3\"]].mean(axis=1, skipna=True)\n",
    "\n",
    "def classify_bp(sbp, dbp):\n",
    "    if pd.isna(sbp) or pd.isna(dbp):\n",
    "        return np.nan\n",
    "    if sbp < 120 and dbp < 80:\n",
    "        return \"optimal\"\n",
    "    elif sbp < 130 and dbp < 85:\n",
    "        return \"normal\"\n",
    "    elif sbp < 140 and dbp < 90:\n",
    "        return \"high_normal\"\n",
    "    else:\n",
    "        return \"hypertensive\"\n",
    "\n",
    "df[\"bp_group\"] = df.apply(lambda row: classify_bp(row[\"sbp_mean\"], row[\"dbp_mean\"]), axis=1)\n",
    "df = df.dropna(subset=[\"bp_group\"])  # 删除缺失 outcome\n",
    "\n",
    "# 编码 outcome\n",
    "bp_mapping = {\"optimal\":0, \"normal\":1, \"high_normal\":2, \"hypertensive\":3}\n",
    "df[\"bp_group_code\"] = df[\"bp_group\"].map(bp_mapping)\n",
    "\n",
    "# Step 3. 协变量处理\n",
    "# 连续变量标准化\n",
    "scaler = StandardScaler()\n",
    "df[[\"intage\",\"bmi\"]] = scaler.fit_transform(df[[\"intage\",\"bmi\"]])\n",
    "\n",
    "# 性别转数字\n",
    "df[\"gender\"] = df[\"gender\"].astype(\"category\").cat.codes  # 0=male,1=female\n",
    "\n",
    "# 种族 one-hot 编码（drop_first=True 避免共线性）\n",
    "df = pd.get_dummies(df, columns=[\"ethderived\"], drop_first=True)\n",
    "\n",
    "# Step 4. 构建 X, y\n",
    "X = df[[\"intage\",\"bmi\",\"gender\"] + [col for col in df.columns if col.startswith(\"ethderived_\")]]\n",
    "y = df[\"bp_group_code\"]\n",
    "\n",
    "# 丢掉 NaN\n",
    "X = X.dropna()\n",
    "y = y.loc[X.index]\n",
    "\n",
    "print(\"最终建模样本量:\", X.shape[0])\n",
    "\n",
    "# Step 5. 拟合模型（加权）\n",
    "clf = LogisticRegression(\n",
    "    multi_class=\"multinomial\", \n",
    "    solver=\"lbfgs\", \n",
    "    max_iter=1000,\n",
    "    class_weight=\"balanced\"\n",
    ")\n",
    "clf.fit(X, y)\n",
    "\n",
    "# Step 6. 输出参数\n",
    "coef_table = pd.DataFrame(\n",
    "    clf.coef_, \n",
    "    columns=X.columns, \n",
    "    index=[\"optimal\",\"normal\",\"high_normal\",\"hypertensive\"]\n",
    ")\n",
    "\n",
    "print(\"\\n截距 (intercepts):\")\n",
    "print(clf.intercept_)\n",
    "print(\"\\n回归系数 (coefficients):\")\n",
    "print(coef_table)\n",
    "\n",
    "# Step 7. 模型评估\n",
    "y_pred = clf.predict(X)\n",
    "print(\"\\n分类准确率:\", clf.score(X, y))\n",
    "print(\"\\n分类报告 (Classification Report):\")\n",
    "print(classification_report(y, y_pred, target_names=bp_mapping.keys()))\n"
   ]
  },
  {
   "cell_type": "code",
   "execution_count": 12,
   "id": "fb5c9056",
   "metadata": {},
   "outputs": [
    {
     "name": "stdout",
     "output_type": "stream",
     "text": [
      "原始数据规模: (100059, 16)\n",
      "分组后数据规模: (66560, 20)\n",
      "最终建模样本量: 66474\n",
      "\n",
      "回归系数 (coefficients):\n",
      "              intage    bmi  gender  ethderived_2  ethderived_3  ethderived_4  \\\n",
      "optimal       -0.722 -0.444   0.425        -0.090         0.093         0.397   \n",
      "normal        -0.181  0.031  -0.154        -0.004         0.000         0.022   \n",
      "high_normal    0.223  0.168  -0.158        -0.043        -0.029        -0.150   \n",
      "hypertensive   0.680  0.246  -0.113         0.137        -0.064        -0.268   \n",
      "\n",
      "              genderXethderived_2  genderXethderived_3  genderXethderived_4  \n",
      "optimal                    -0.057                0.108               -0.182  \n",
      "normal                     -0.030               -0.018                0.031  \n",
      "high_normal                 0.058               -0.079                0.085  \n",
      "hypertensive                0.029               -0.011                0.067  \n",
      "\n",
      "Odds Ratios (OR):\n",
      "              intage    bmi  gender  ethderived_2  ethderived_3  ethderived_4  \\\n",
      "optimal        0.486  0.641   1.530         0.914         1.098         1.488   \n",
      "normal         0.834  1.031   0.858         0.996         1.000         1.022   \n",
      "high_normal    1.250  1.183   0.854         0.958         0.971         0.860   \n",
      "hypertensive   1.974  1.279   0.893         1.147         0.938         0.765   \n",
      "\n",
      "              genderXethderived_2  genderXethderived_3  genderXethderived_4  \n",
      "optimal                     0.945                1.114                0.834  \n",
      "normal                      0.970                0.982                1.031  \n",
      "high_normal                 1.060                0.924                1.088  \n",
      "hypertensive                1.029                0.989                1.069  \n",
      "\n",
      "分类准确率: 0.4834220898396365\n",
      "\n",
      "分类报告:\n",
      "              precision    recall  f1-score   support\n",
      "\n",
      "     optimal       0.75      0.60      0.67     36075\n",
      "      normal       0.21      0.22      0.21     10445\n",
      " high_normal       0.17      0.13      0.15      8194\n",
      "hypertensive       0.34      0.60      0.44     11760\n",
      "\n",
      "    accuracy                           0.48     66474\n",
      "   macro avg       0.37      0.39      0.37     66474\n",
      "weighted avg       0.52      0.48      0.49     66474\n",
      "\n"
     ]
    }
   ],
   "source": [
    "import pandas as pd\n",
    "import numpy as np\n",
    "from sklearn.linear_model import LogisticRegression\n",
    "from sklearn.preprocessing import StandardScaler\n",
    "from sklearn.metrics import classification_report\n",
    "\n",
    "# Step 1. 读取数据\n",
    "file_path = \"C:/Users/Candy/Desktop/merged_all.xlsx\"\n",
    "df = pd.read_excel(file_path, sheet_name=\"Sheet1\")\n",
    "\n",
    "print(\"原始数据规模:\", df.shape)\n",
    "\n",
    "# Step 2. 计算平均血压\n",
    "df[\"sbp_mean\"] = df[[\"bp1systolic1\", \"bp1systolic2\", \"bp1systolic3\"]].mean(axis=1, skipna=True)\n",
    "df[\"dbp_mean\"] = df[[\"bp1diastolic1\", \"bp1diastolic2\", \"bp1diastolic3\"]].mean(axis=1, skipna=True)\n",
    "\n",
    "# 血压分组函数\n",
    "def classify_bp(sbp, dbp):\n",
    "    if pd.isna(sbp) or pd.isna(dbp):\n",
    "        return np.nan\n",
    "    if sbp < 120 and dbp < 80:\n",
    "        return \"optimal\"\n",
    "    elif sbp < 130 and dbp < 85:\n",
    "        return \"normal\"\n",
    "    elif sbp < 140 and dbp < 90:\n",
    "        return \"high_normal\"\n",
    "    else:\n",
    "        return \"hypertensive\"\n",
    "\n",
    "df[\"bp_group\"] = df.apply(lambda row: classify_bp(row[\"sbp_mean\"], row[\"dbp_mean\"]), axis=1)\n",
    "df = df.dropna(subset=[\"bp_group\"])  # 删除缺失 outcome\n",
    "\n",
    "# 编码 outcome\n",
    "bp_mapping = {\"optimal\":0, \"normal\":1, \"high_normal\":2, \"hypertensive\":3}\n",
    "df[\"bp_group_code\"] = df[\"bp_group\"].map(bp_mapping)\n",
    "\n",
    "print(\"分组后数据规模:\", df.shape)\n",
    "\n",
    "# Step 3. 协变量处理\n",
    "# 标准化连续变量\n",
    "scaler = StandardScaler()\n",
    "df[[\"intage\",\"bmi\"]] = scaler.fit_transform(df[[\"intage\",\"bmi\"]])\n",
    "\n",
    "# 性别编码\n",
    "df[\"gender\"] = df[\"gender\"].astype(\"category\").cat.codes  # 0=male,1=female\n",
    "\n",
    "# 种族 one-hot 编码\n",
    "df = pd.get_dummies(df, columns=[\"ethderived\"], drop_first=True)\n",
    "\n",
    "# 性别 × 种族交互项\n",
    "for col in [c for c in df.columns if c.startswith(\"ethderived_\")]:\n",
    "    df[f\"genderX{col}\"] = df[\"gender\"] * df[col]\n",
    "\n",
    "# 构建特征矩阵\n",
    "feature_cols = [\"intage\",\"bmi\",\"gender\"] + \\\n",
    "               [c for c in df.columns if c.startswith(\"ethderived_\")] + \\\n",
    "               [c for c in df.columns if c.startswith(\"genderX\")]\n",
    "\n",
    "X = df[feature_cols]\n",
    "y = df[\"bp_group_code\"]\n",
    "\n",
    "# Step 4. 去掉 NaN\n",
    "mask = X.notnull().all(axis=1)\n",
    "X = X.loc[mask]\n",
    "y = y.loc[mask]\n",
    "\n",
    "print(\"最终建模样本量:\", X.shape[0])\n",
    "\n",
    "# Step 5. Logistic 回归 (balanced)\n",
    "clf = LogisticRegression(\n",
    "    multi_class=\"multinomial\", \n",
    "    solver=\"lbfgs\", \n",
    "    max_iter=1000, \n",
    "    class_weight=\"balanced\"\n",
    ")\n",
    "clf.fit(X, y)\n",
    "\n",
    "# Step 6. 输出系数 + OR\n",
    "coef_table = pd.DataFrame(\n",
    "    clf.coef_, columns=feature_cols, \n",
    "    index=[\"optimal\",\"normal\",\"high_normal\",\"hypertensive\"]\n",
    ")\n",
    "\n",
    "or_table = np.exp(coef_table)  # odds ratio\n",
    "\n",
    "print(\"\\n回归系数 (coefficients):\")\n",
    "print(coef_table.round(3))\n",
    "\n",
    "print(\"\\nOdds Ratios (OR):\")\n",
    "print(or_table.round(3))\n",
    "\n",
    "# Step 7. 模型评估\n",
    "y_pred = clf.predict(X)\n",
    "print(\"\\n分类准确率:\", clf.score(X, y))\n",
    "print(\"\\n分类报告:\")\n",
    "print(classification_report(y, y_pred, target_names=bp_mapping.keys()))\n"
   ]
  },
  {
   "cell_type": "code",
   "execution_count": 15,
   "id": "93fccf9d",
   "metadata": {},
   "outputs": [
    {
     "name": "stdout",
     "output_type": "stream",
     "text": [
      "原始数据规模: (100059, 16)\n",
      "分组后数据规模: (66560, 20)\n",
      "最终建模样本量: 66560 特征数: 6\n"
     ]
    },
    {
     "name": "stderr",
     "output_type": "stream",
     "text": [
      "C:\\01project\\condapy310\\Lib\\site-packages\\xgboost\\training.py:183: UserWarning: [16:52:53] WARNING: C:\\actions-runner\\_work\\xgboost\\xgboost\\src\\learner.cc:738: \n",
      "Parameters: { \"use_label_encoder\" } are not used.\n",
      "\n",
      "  bst.update(dtrain, iteration=i, fobj=obj)\n"
     ]
    },
    {
     "name": "stdout",
     "output_type": "stream",
     "text": [
      "\n",
      "XGBoost 分类报告:\n",
      "              precision    recall  f1-score   support\n",
      "\n",
      "     optimal       0.61      0.92      0.73     36106\n",
      "      normal       0.54      0.01      0.02     10452\n",
      " high_normal       0.52      0.01      0.01      8207\n",
      "hypertensive       0.41      0.43      0.42     11795\n",
      "\n",
      "    accuracy                           0.57     66560\n",
      "   macro avg       0.52      0.34      0.30     66560\n",
      "weighted avg       0.55      0.57      0.48     66560\n",
      "\n"
     ]
    },
    {
     "data": {
      "text/plain": [
       "<Figure size 800x600 with 0 Axes>"
      ]
     },
     "metadata": {},
     "output_type": "display_data"
    },
    {
     "data": {
      "image/png": "[encoded data removed]",
      "text/plain": [
       "<Figure size 640x480 with 1 Axes>"
      ]
     },
     "metadata": {},
     "output_type": "display_data"
    }
   ],
   "source": [
    "# Step 0. 导入依赖\n",
    "import pandas as pd\n",
    "import numpy as np\n",
    "from sklearn.preprocessing import StandardScaler\n",
    "from sklearn.metrics import classification_report\n",
    "from xgboost import XGBClassifier, plot_importance\n",
    "import matplotlib.pyplot as plt\n",
    "\n",
    "# Step 1. 读取数据\n",
    "file_path = \"C:/Users/Candy/Desktop/merged_all.xlsx\"\n",
    "df = pd.read_excel(file_path, sheet_name=\"Sheet1\")\n",
    "\n",
    "print(\"原始数据规模:\", df.shape)\n",
    "\n",
    "# Step 2. 计算平均血压\n",
    "df[\"sbp_mean\"] = df[[\"bp1systolic1\", \"bp1systolic2\", \"bp1systolic3\"]].mean(axis=1, skipna=True)\n",
    "df[\"dbp_mean\"] = df[[\"bp1diastolic1\", \"bp1diastolic2\", \"bp1diastolic3\"]].mean(axis=1, skipna=True)\n",
    "\n",
    "# 血压分组函数\n",
    "def classify_bp(sbp, dbp):\n",
    "    if pd.isna(sbp) or pd.isna(dbp):\n",
    "        return np.nan\n",
    "    if sbp < 120 and dbp < 80:\n",
    "        return \"optimal\"\n",
    "    elif sbp < 130 and dbp < 85:\n",
    "        return \"normal\"\n",
    "    elif sbp < 140 and dbp < 90:\n",
    "        return \"high_normal\"\n",
    "    else:\n",
    "        return \"hypertensive\"\n",
    "\n",
    "df[\"bp_group\"] = df.apply(lambda row: classify_bp(row[\"sbp_mean\"], row[\"dbp_mean\"]), axis=1)\n",
    "df = df.dropna(subset=[\"bp_group\"])  # 删除缺失 outcome\n",
    "\n",
    "# 编码 outcome\n",
    "bp_mapping = {\"optimal\":0, \"normal\":1, \"high_normal\":2, \"hypertensive\":3}\n",
    "df[\"bp_group_code\"] = df[\"bp_group\"].map(bp_mapping)\n",
    "\n",
    "print(\"分组后数据规模:\", df.shape)\n",
    "\n",
    "# Step 3. 协变量处理\n",
    "# 标准化连续变量\n",
    "scaler = StandardScaler()\n",
    "df[[\"intage\",\"bmi\"]] = scaler.fit_transform(df[[\"intage\",\"bmi\"]])\n",
    "\n",
    "# 性别转数值\n",
    "df[\"gender\"] = df[\"gender\"].astype(\"category\").cat.codes  # 0=male,1=female\n",
    "\n",
    "# 种族 one-hot 编码\n",
    "df = pd.get_dummies(df, columns=[\"ethderived\"], drop_first=True)\n",
    "\n",
    "# 构建自变量矩阵\n",
    "feature_cols = [\"intage\",\"bmi\",\"gender\"] + [c for c in df.columns if c.startswith(\"ethderived_\")]\n",
    "X = df[feature_cols]\n",
    "y = df[\"bp_group_code\"]\n",
    "\n",
    "print(\"最终建模样本量:\", X.shape[0], \"特征数:\", X.shape[1])\n",
    "\n",
    "# Step 4. XGBoost 模型训练\n",
    "clf_xgb = XGBClassifier(\n",
    "    objective=\"multi:softmax\",\n",
    "    num_class=4,\n",
    "    eval_metric=\"mlogloss\",\n",
    "    use_label_encoder=False,\n",
    "    n_estimators=300,\n",
    "    max_depth=5,\n",
    "    learning_rate=0.1,\n",
    "    subsample=0.8,\n",
    "    colsample_bytree=0.8,\n",
    "    random_state=42\n",
    ")\n",
    "\n",
    "clf_xgb.fit(X, y)\n",
    "\n",
    "# Step 5. 预测 & 评估\n",
    "y_pred_xgb = clf_xgb.predict(X)\n",
    "\n",
    "print(\"\\nXGBoost 分类报告:\")\n",
    "print(classification_report(y, y_pred_xgb, target_names=bp_mapping.keys()))\n",
    "\n",
    "# Step 6. 特征重要性可视化\n",
    "plt.figure(figsize=(8,6))\n",
    "plot_importance(clf_xgb, importance_type=\"gain\", show_values=False)\n",
    "plt.title(\"Feature Importance (XGBoost - Gain)\")\n",
    "plt.show()"
   ]
  },
  {
   "cell_type": "code",
   "execution_count": 16,
   "id": "56165570",
   "metadata": {},
   "outputs": [
    {
     "name": "stdout",
     "output_type": "stream",
     "text": [
      "回归系数: [ 6.77805816  1.01939047 -3.71288211 53.34492798]\n",
      "截距: 69.59433319979009\n",
      "MSE: 489.2025632265987\n",
      "R²: 0.20037242862596127\n"
     ]
    }
   ],
   "source": [
    "import pandas as pd\n",
    "import numpy as np\n",
    "from sklearn.linear_model import LinearRegression\n",
    "from sklearn.metrics import mean_squared_error, r2_score\n",
    "\n",
    "# 1. 读取数据\n",
    "file_path = \"C:/Users/Candy/Desktop/merged_all.xlsx\"\n",
    "df = pd.read_excel(file_path, sheet_name=\"Sheet1\")\n",
    "\n",
    "# 2. 计算平均血压\n",
    "df[\"sbp_mean\"] = df[[\"bp1systolic1\", \"bp1systolic2\", \"bp1systolic3\"]].mean(axis=1, skipna=True)\n",
    "\n",
    "# 去掉缺失值\n",
    "df = df.dropna(subset=[\"sbp_mean\", \"intage\", \"bmi\", \"gender\"])\n",
    "\n",
    "# 3. 构造特征\n",
    "def sigmoid(x, k=0.1, c=46):\n",
    "    return 1 / (1 + np.exp(-k*(x-c)))\n",
    "\n",
    "df[\"age_sigmoid\"] = sigmoid(df[\"intage\"])\n",
    "df[\"time_sigmoid\"] = sigmoid(df[\"intage\"], k=0.05, c=60)  # 举例用 age 代替 time\n",
    "\n",
    "# gender 转数值\n",
    "df[\"gender_code\"] = df[\"gender\"].astype(\"category\").cat.codes\n",
    "\n",
    "# 4. 构建 X, y\n",
    "X = df[[\"age_sigmoid\", \"bmi\", \"gender_code\", \"time_sigmoid\"]]\n",
    "y = df[\"sbp_mean\"]\n",
    "\n",
    "# 5. 拟合线性回归\n",
    "model = LinearRegression()\n",
    "model.fit(X, y)\n",
    "\n",
    "# 6. 输出结果\n",
    "print(\"回归系数:\", model.coef_)\n",
    "print(\"截距:\", model.intercept_)\n",
    "\n",
    "# 7. 预测与评估\n",
    "y_pred = model.predict(X)\n",
    "print(\"MSE:\", mean_squared_error(y, y_pred))\n",
    "print(\"R²:\", r2_score(y, y_pred))"
   ]
  },
  {
   "cell_type": "code",
   "execution_count": null,
   "id": "87f5e823",
   "metadata": {},
   "outputs": [],
   "source": []
  }
 ],
 "metadata": {
  "kernelspec": {
   "display_name": "Python 3 (ipykernel)",
   "language": "python",
   "name": "python3"
  },
  "language_info": {
   "codemirror_mode": {
    "name": "ipython",
    "version": 3
   },
   "file_extension": ".py",
   "mimetype": "text/x-python",
   "name": "python",
   "nbconvert_exporter": "python",
   "pygments_lexer": "ipython3",
   "version": "3.11.3"
  }
 },
 "nbformat": 4,
 "nbformat_minor": 5
}
