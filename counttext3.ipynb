{
 "cells": [
  {
   "cell_type": "code",
   "execution_count": null,
   "id": "d039a146",
   "metadata": {},
   "outputs": [],
   "source": [
    "import urllib.request\n",
    "from collections import Counter\n",
    "import re\n",
    "from multiprocessing import Pool\n",
    "import logging\n",
    "from urllib.parse import urlparse\n",
    "\n",
    "logging.basicConfig(level=logging.INFO, format='%(asctime)s - %(levelname)s - %(message)s')\n",
    "logger = logging.getLogger(__name__)\n",
    "\n",
    "def is_valid_url(url):\n",
    "    try:\n",
    "        result = urlparse(url)\n",
    "        return all([result.scheme, result.netloc])\n",
    "    except ValueError:\n",
    "        return False\n",
    "\n",
    "def download_and_count(url):\n",
    "    if not is_valid_url(url):\n",
    "        logger.error(f\"Invalid URL: {url}\")\n",
    "        return Counter()\n",
    "    try:\n",
    "        response = urllib.request.urlopen(url, timeout=10)\n",
    "        text = response.read().decode('utf-8')\n",
    "        words = re.findall(r\"\\b[\\w\\'-]+\\b\", text.lower())\n",
    "        return Counter(words)\n",
    "    except urllib.error.HTTPError as e:\n",
    "        logger.error(f\"HTTP error processing {url}: {e}\")\n",
    "    except urllib.error.URLError as e:\n",
    "        logger.error(f\"URL error processing {url}: {e}\")\n",
    "    except Exception as e:\n",
    "        logger.error(f\"General error processing {url}: {e}\")\n",
    "    return Counter()\n",
    "\n",
    "def merge_counters(counters):\n",
    "    total_count = Counter()\n",
    "    for counter in counters:\n",
    "        total_count.update(counter)\n",
    "    return total_count\n",
    "\n",
    "def main(urls):\n",
    "    with Pool(processes=8) as pool:\n",
    "        counters = pool.map(download_and_count, urls)\n",
    "    total_word_count = merge_counters(counters)\n",
    "    for word, count in total_word_count.items():\n",
    "        print(f'{word}: {count}')\n",
    "\n",
    "if __name__ == \"__main__\":\n",
    "    urls = [\"http://example.com/some-text-file1.txt\", \"http://example.com/some-text-file2.txt\"]\n",
    "    main(urls)\n"
   ]
  },
  {
   "cell_type": "code",
   "execution_count": null,
   "id": "08380043",
   "metadata": {},
   "outputs": [],
   "source": []
  }
 ],
 "metadata": {
  "kernelspec": {
   "display_name": "Python 3 (ipykernel)",
   "language": "python",
   "name": "python3"
  },
  "language_info": {
   "codemirror_mode": {
    "name": "ipython",
    "version": 3
   },
   "file_extension": ".py",
   "mimetype": "text/x-python",
   "name": "python",
   "nbconvert_exporter": "python",
   "pygments_lexer": "ipython3",
   "version": "3.9.12"
  }
 },
 "nbformat": 4,
 "nbformat_minor": 5
}
