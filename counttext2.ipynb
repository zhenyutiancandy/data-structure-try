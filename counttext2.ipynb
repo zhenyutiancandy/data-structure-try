{
 "cells": [
  {
   "cell_type": "code",
   "execution_count": null,
   "id": "55aa3a04",
   "metadata": {},
   "outputs": [],
   "source": [
    "# import urllib.request\n",
    "# from collections import Counter\n",
    "# import re\n",
    "# from multiprocessing import Pool\n",
    "\n",
    "# def download_and_count(url):\n",
    "#     try:\n",
    "#         response = urllib.request.urlopen(url)\n",
    "#         text = response.read().decode('utf-8')\n",
    "#         words = re.findall(r'\\b\\w+\\b', text.lower())\n",
    "#         return Counter(words)\n",
    "#     except Exception as e:\n",
    "#         print(f\"Error processing {url}: {e}\")\n",
    "#         return Counter()\n",
    "\n",
    "# def merge_counters(counters):\n",
    "#     total_count = Counter()\n",
    "#     for counter in counters:\n",
    "#         total_count.update(counter)\n",
    "#     return total_count\n",
    "\n",
    "# def main(urls):\n",
    "#     with Pool(processes=8) as pool:  # Adjust the number of processes as needed\n",
    "#         counters = pool.map(download_and_count, urls)\n",
    "#     total_word_count = merge_counters(counters)\n",
    "#     for word, count in total_word_count.items():\n",
    "#         print(f'{word}: {count}')\n",
    "\n",
    "# if __name__ == \"__main__\":\n",
    "#     urls = [\"http://example.com/some-text-file1.txt\", \"http://example.com/some-text-file2.txt\"]  # Replace with your list of URLs\n",
    "#     main(urls)"
   ]
  },
  {
   "cell_type": "code",
   "execution_count": null,
   "id": "15e5463f",
   "metadata": {},
   "outputs": [],
   "source": []
  }
 ],
 "metadata": {
  "kernelspec": {
   "display_name": "Python 3 (ipykernel)",
   "language": "python",
   "name": "python3"
  },
  "language_info": {
   "codemirror_mode": {
    "name": "ipython",
    "version": 3
   },
   "file_extension": ".py",
   "mimetype": "text/x-python",
   "name": "python",
   "nbconvert_exporter": "python",
   "pygments_lexer": "ipython3",
   "version": "3.9.12"
  }
 },
 "nbformat": 4,
 "nbformat_minor": 5
}
